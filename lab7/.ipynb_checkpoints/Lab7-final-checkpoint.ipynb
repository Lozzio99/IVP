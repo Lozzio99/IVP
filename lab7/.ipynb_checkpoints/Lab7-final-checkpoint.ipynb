{
 "cells": [
  {
   "cell_type": "markdown",
   "metadata": {
    "id": "XMT80Cn8kp0U"
   },
   "source": [
    "**Note: Please use google collab or instead of cv2_imshow use cv2.imshow.**"
   ]
  },
  {
   "cell_type": "markdown",
   "metadata": {
    "id": "OYlWobX89PKO"
   },
   "source": [
    "Here https://opencv24-python-tutorials.readthedocs.io/en/latest/py_tutorials/py_imgproc/py_morphological_ops/py_morphological_ops.html you can find implementation of all basic morphological operations."
   ]
  },
  {
   "cell_type": "code",
   "execution_count": 6,
   "metadata": {
    "id": "H0vYWs-yMyEh"
   },
   "outputs": [
    {
     "ename": "ModuleNotFoundError",
     "evalue": "No module named 'imutils'",
     "output_type": "error",
     "traceback": [
      "\u001b[1;31m---------------------------------------------------------------------------\u001b[0m",
      "\u001b[1;31mModuleNotFoundError\u001b[0m                       Traceback (most recent call last)",
      "\u001b[1;32m~\\AppData\\Local\\Temp/ipykernel_24164/524579398.py\u001b[0m in \u001b[0;36m<module>\u001b[1;34m\u001b[0m\n\u001b[0;32m      4\u001b[0m \u001b[1;32mimport\u001b[0m \u001b[0mimageio\u001b[0m \u001b[1;32mas\u001b[0m \u001b[0miio\u001b[0m\u001b[1;33m\u001b[0m\u001b[1;33m\u001b[0m\u001b[0m\n\u001b[0;32m      5\u001b[0m \u001b[1;32mimport\u001b[0m \u001b[0mcv2\u001b[0m\u001b[1;33m\u001b[0m\u001b[1;33m\u001b[0m\u001b[0m\n\u001b[1;32m----> 6\u001b[1;33m \u001b[1;32mimport\u001b[0m \u001b[0mimutils\u001b[0m\u001b[1;33m\u001b[0m\u001b[1;33m\u001b[0m\u001b[0m\n\u001b[0m\u001b[0;32m      7\u001b[0m \u001b[1;32mimport\u001b[0m \u001b[0mos\u001b[0m\u001b[1;33m\u001b[0m\u001b[1;33m\u001b[0m\u001b[0m\n\u001b[0;32m      8\u001b[0m \u001b[1;33m\u001b[0m\u001b[0m\n",
      "\u001b[1;31mModuleNotFoundError\u001b[0m: No module named 'imutils'"
     ]
    }
   ],
   "source": [
    "import numpy as np\n",
    "import matplotlib.pyplot as plt\n",
    "import scipy.fftpack\n",
    "import imageio as iio\n",
    "import cv2\n",
    "import imutils\n",
    "import os\n",
    "\n",
    "from numpy import pi\n",
    "from numpy import r_\n",
    "from google.colab.patches import cv2_imshow\n",
    "from imutils import contours\n",
    "from skimage import measure\n",
    "from scipy.stats import norm\n",
    "from os import listdir\n",
    "from os.path import isfile, join\n",
    "from skimage.morphology import (square, rectangle, diamond, disk, cube, octahedron, ball, octagon, star)"
   ]
  },
  {
   "cell_type": "markdown",
   "metadata": {
    "id": "fOcYhBB6kMty"
   },
   "source": [
    "**1. Application of opening, closing.**"
   ]
  },
  {
   "cell_type": "markdown",
   "metadata": {
    "id": "csNJ1bTzfIfj"
   },
   "source": [
    "Convert to grayscale."
   ]
  },
  {
   "cell_type": "code",
   "execution_count": null,
   "metadata": {
    "colab": {
     "base_uri": "https://localhost:8080/",
     "height": 377
    },
    "id": "mi8eKjHOa4ay",
    "outputId": "8e117afb-83c0-4235-aebe-1b57f2223e0b"
   },
   "outputs": [],
   "source": [
    "img = cv2.imread('calligraphy.jpg')\n",
    "gray = cv2.cvtColor(img, cv2.COLOR_RGB2GRAY)\n",
    "cv2_imshow(gray)\n"
   ]
  },
  {
   "cell_type": "markdown",
   "metadata": {
    "id": "TSwtYhdVfWE-"
   },
   "source": [
    "Convert to binary."
   ]
  },
  {
   "cell_type": "code",
   "execution_count": null,
   "metadata": {
    "colab": {
     "base_uri": "https://localhost:8080/",
     "height": 377
    },
    "id": "L_xPRoGUesuN",
    "outputId": "cdea966d-16bc-4ca0-b7c7-b97ac65056b3"
   },
   "outputs": [],
   "source": [
    "ret, bw_img = cv2.threshold(gray, 127, 255, cv2.THRESH_BINARY)\n",
    "cv2_imshow(bw_img)"
   ]
  },
  {
   "cell_type": "markdown",
   "metadata": {
    "id": "UMO3FvTofgRR"
   },
   "source": [
    "Structuring element."
   ]
  },
  {
   "cell_type": "code",
   "execution_count": null,
   "metadata": {
    "id": "8HRXvFmMcNI4"
   },
   "outputs": [],
   "source": [
    "kernel = cv2.getStructuringElement(cv2.MORPH_ELLIPSE,(7,7))\n",
    "# or you can use structuring elemnt from skimage\n",
    "#kernel = disk(7)"
   ]
  },
  {
   "cell_type": "markdown",
   "metadata": {
    "id": "jL7dgInWjuCb"
   },
   "source": [
    "Apply opening."
   ]
  },
  {
   "cell_type": "code",
   "execution_count": null,
   "metadata": {
    "colab": {
     "base_uri": "https://localhost:8080/",
     "height": 377
    },
    "id": "kD4ngJwKdK1W",
    "outputId": "a67825b1-ce2e-478a-cba5-5ccb5c477b3b"
   },
   "outputs": [],
   "source": [
    "opening = cv2.morphologyEx(bw_img, cv2.MORPH_OPEN, kernel)\n",
    "cv2_imshow(opening)"
   ]
  },
  {
   "cell_type": "markdown",
   "metadata": {
    "id": "JsCtvDqBj2O3"
   },
   "source": [
    "Apply closing."
   ]
  },
  {
   "cell_type": "code",
   "execution_count": null,
   "metadata": {
    "colab": {
     "base_uri": "https://localhost:8080/",
     "height": 377
    },
    "id": "ybLOMQ7LdYET",
    "outputId": "f947552c-2f7f-45d6-f572-635aade7cc99"
   },
   "outputs": [],
   "source": [
    "closing = cv2.morphologyEx(bw_img, cv2.MORPH_CLOSE, kernel)\n",
    "cv2_imshow(closing)"
   ]
  },
  {
   "cell_type": "markdown",
   "metadata": {
    "id": "najdarpwljau"
   },
   "source": [
    "**2. Boundary extraction.**"
   ]
  },
  {
   "cell_type": "markdown",
   "metadata": {
    "id": "65UyygTGlr57"
   },
   "source": [
    "Convert to grayscale."
   ]
  },
  {
   "cell_type": "code",
   "execution_count": null,
   "metadata": {
    "colab": {
     "base_uri": "https://localhost:8080/",
     "height": 1000
    },
    "id": "jBeowLwHlA2n",
    "outputId": "5378a312-659a-48a3-c815-022fb47b7c5f"
   },
   "outputs": [],
   "source": [
    "img2 = cv2.imread('skel.jpg')\n",
    "gray2 = cv2.cvtColor(img2, cv2.COLOR_RGB2GRAY)\n",
    "cv2_imshow(gray2)"
   ]
  },
  {
   "cell_type": "markdown",
   "metadata": {
    "id": "_y2D6xPilw9w"
   },
   "source": [
    "Convert to binary."
   ]
  },
  {
   "cell_type": "code",
   "execution_count": null,
   "metadata": {
    "colab": {
     "base_uri": "https://localhost:8080/",
     "height": 1000
    },
    "id": "QlvVSr67lVkV",
    "outputId": "5403fb21-c89c-4e65-9f14-86153e18bc5e"
   },
   "outputs": [],
   "source": [
    "ret2, bw_img2 = cv2.threshold(gray2, 127, 255, cv2.THRESH_BINARY)\n",
    "cv2_imshow(bw_img2)"
   ]
  },
  {
   "cell_type": "markdown",
   "metadata": {
    "id": "NvAXS47jl5aF"
   },
   "source": [
    "Structuring element."
   ]
  },
  {
   "cell_type": "code",
   "execution_count": null,
   "metadata": {
    "id": "v1M6HNNQl2FC"
   },
   "outputs": [],
   "source": [
    "kernel2 = cv2.getStructuringElement(cv2.MORPH_ELLIPSE,(5,5))\n",
    "# or you can use structuring elemnt from skimage\n",
    "#kernel = disk(5)"
   ]
  },
  {
   "cell_type": "markdown",
   "metadata": {
    "id": "UASVATsFnzws"
   },
   "source": [
    "Apply erosion."
   ]
  },
  {
   "cell_type": "code",
   "execution_count": null,
   "metadata": {
    "colab": {
     "base_uri": "https://localhost:8080/",
     "height": 1000
    },
    "id": "Xu_9xxSZmUQC",
    "outputId": "805dbba5-afd4-4444-b61a-d2a5e9b71e3c"
   },
   "outputs": [],
   "source": [
    "erosion = cv2.erode(bw_img2,kernel2,iterations = 1)\n",
    "cv2_imshow(erosion)"
   ]
  },
  {
   "cell_type": "markdown",
   "metadata": {
    "id": "PAonP-pNn_cr"
   },
   "source": [
    "Boundary."
   ]
  },
  {
   "cell_type": "code",
   "execution_count": null,
   "metadata": {
    "colab": {
     "base_uri": "https://localhost:8080/",
     "height": 1000
    },
    "id": "YjV5k00cm2AL",
    "outputId": "208952ec-678d-4262-dda8-1329a5ab2f95"
   },
   "outputs": [],
   "source": [
    "final = cv2.subtract(bw_img2,erosion)\n",
    "cv2_imshow(final)"
   ]
  },
  {
   "cell_type": "markdown",
   "metadata": {
    "id": "ocuUAT2fo_EA"
   },
   "source": [
    "# 3. Skeleton."
   ]
  },
  {
   "cell_type": "markdown",
   "metadata": {
    "id": "PPI50hkD-g_f"
   },
   "source": [
    "Convert to grayscale."
   ]
  },
  {
   "cell_type": "code",
   "execution_count": null,
   "metadata": {
    "colab": {
     "base_uri": "https://localhost:8080/",
     "height": 371
    },
    "id": "mSWbhALE-jua",
    "outputId": "1dc8873f-2a98-43df-df14-7d99f597272e"
   },
   "outputs": [],
   "source": [
    "img3 = cv2.imread('tools.jpg')\n",
    "gray3 = cv2.cvtColor(img3, cv2.COLOR_RGB2GRAY)\n",
    "cv2_imshow(gray3)"
   ]
  },
  {
   "cell_type": "markdown",
   "metadata": {
    "id": "c9qSGDWu-71A"
   },
   "source": [
    "Convert to binary."
   ]
  },
  {
   "cell_type": "code",
   "execution_count": null,
   "metadata": {
    "colab": {
     "base_uri": "https://localhost:8080/",
     "height": 371
    },
    "id": "8kGkPVf3-y6y",
    "outputId": "7beafcee-3079-41ac-e145-664752b13e61"
   },
   "outputs": [],
   "source": [
    "ret3, bw_img3 = cv2.threshold(gray3, 127, 255, cv2.THRESH_BINARY)\n",
    "cv2_imshow(bw_img3)"
   ]
  },
  {
   "cell_type": "markdown",
   "metadata": {
    "id": "7_NmPA0j_LGX"
   },
   "source": [
    "Skeleton."
   ]
  },
  {
   "cell_type": "code",
   "execution_count": null,
   "metadata": {
    "colab": {
     "base_uri": "https://localhost:8080/",
     "height": 371
    },
    "id": "utr47CSeAFbY",
    "outputId": "6b897f38-4fde-4504-ee65-c5c43025eaeb"
   },
   "outputs": [],
   "source": [
    "# Step 1: Create an empty skeleton\n",
    "size = np.size(bw_img3)\n",
    "skel = np.zeros(bw_img3.shape, np.uint8)\n",
    "\n",
    "# Get a Cross Shaped Kernel\n",
    "element = cv2.getStructuringElement(cv2.MORPH_CROSS, (3,3))\n",
    "\n",
    "# Repeat steps 2-4\n",
    "while True:\n",
    "    #Step 2: Open the image\n",
    "    open = cv2.morphologyEx(bw_img3, cv2.MORPH_OPEN,element)\n",
    "    #Step 3: Substract open from the original image\n",
    "    temp = cv2.subtract(bw_img3, open)\n",
    "    #Step 4: Erode the original image and refine the skeleton\n",
    "    eroded = cv2.erode(bw_img3, element)\n",
    "    skel = cv2.bitwise_or(skel,temp)\n",
    "    bw_img3 = eroded.copy()\n",
    "    # Step 5: If there are no white pixels left ie.. the image has been completely eroded, quit the loop\n",
    "    if cv2.countNonZero(bw_img3)==0:\n",
    "        break\n",
    "\n",
    "# Displaying the final skeleton\n",
    "cv2_imshow(skel)"
   ]
  },
  {
   "cell_type": "markdown",
   "metadata": {
    "id": "0CR42ZgnHiG3"
   },
   "source": [
    "**4. Hit and Miss transform.**\n"
   ]
  },
  {
   "cell_type": "markdown",
   "metadata": {
    "id": "GTi-N8bZK6Yx"
   },
   "source": [
    "Basic example."
   ]
  },
  {
   "cell_type": "code",
   "execution_count": null,
   "metadata": {
    "colab": {
     "base_uri": "https://localhost:8080/",
     "height": 417
    },
    "id": "bm3ueuK8Of6w",
    "outputId": "319b2428-74b7-4496-956b-614ca856a534"
   },
   "outputs": [],
   "source": [
    "# Create the input image\n",
    "input_image = np.array((\n",
    "    [0, 0, 0, 0, 0, 0, 0, 0],\n",
    "    [0, 255, 255, 255, 0, 0, 0, 255],\n",
    "    [0, 0, 255, 255, 0, 0, 0, 0],\n",
    "    [0, 0, 255, 255, 0, 0, 0, 0],\n",
    "    [0, 0, 0, 0, 0, 0, 0, 0],\n",
    "    [0, 255, 255, 0, 0, 255, 255, 255],\n",
    "    [0,255, 0, 0, 0, 0, 255, 0],\n",
    "    [0, 255, 0, 0, 0, 0, 255, 0]), dtype=\"uint8\")\n",
    "\n",
    "# Construct the structuring element\n",
    "kernel = np.array((\n",
    "        [1, 1, 1],\n",
    "        [0, 1, -1],\n",
    "        [0, 1, -1]), dtype=\"int\")\n",
    "\n",
    "# Apply hit-or-miss transformation\n",
    "rate = 50\n",
    "output_image = cv2.morphologyEx(input_image, cv2.MORPH_HITMISS, kernel)\n",
    "output_image = cv2.resize(output_image, None , fx = rate, fy = rate, interpolation = cv2.INTER_NEAREST)\n",
    "cv2_imshow(output_image)"
   ]
  },
  {
   "cell_type": "markdown",
   "metadata": {
    "id": "OhXLlfRFMDQc"
   },
   "source": [
    "Loading mat files and applying hit or miss."
   ]
  },
  {
   "cell_type": "code",
   "execution_count": null,
   "metadata": {
    "id": "SxEmnTea9aoI"
   },
   "outputs": [],
   "source": [
    "import scipy.io\n",
    "data = scipy.io.loadmat('amanita.mat')\n",
    "b = (data[\"b\"])\n",
    "#print(b)\n"
   ]
  },
  {
   "cell_type": "code",
   "execution_count": null,
   "metadata": {
    "id": "3EpBOmzPA2sI"
   },
   "outputs": [],
   "source": [
    "data2 = scipy.io.loadmat('amanitastamp.mat')\n",
    "y = (data2[\"y\"])\n",
    "#print(y)"
   ]
  },
  {
   "cell_type": "code",
   "execution_count": null,
   "metadata": {
    "id": "aXSRqXDKLP7Q"
   },
   "outputs": [],
   "source": [
    "rate = 50\n",
    "rez = cv2.morphologyEx(y, cv2.MORPH_HITMISS, b)\n",
    "#rez = cv2.resize(output_image, None , fx = rate, fy = rate, interpolation = cv2.INTER_NEAREST)\n",
    "#cv2_imshow(rez)\n"
   ]
  },
  {
   "cell_type": "markdown",
   "metadata": {
    "id": "9bHnehTKL-TH"
   },
   "source": [
    "**5.  Granulometry.**"
   ]
  },
  {
   "cell_type": "code",
   "execution_count": null,
   "metadata": {
    "colab": {
     "base_uri": "https://localhost:8080/",
     "height": 759
    },
    "id": "kfI4HkaaTTZF",
    "outputId": "cf9b5184-990f-4ef6-82c4-30d4226a486f"
   },
   "outputs": [],
   "source": [
    "#Convert to grayscale.\n",
    "img5 = cv2.imread('snowflake.jpg')\n",
    "gray5 = cv2.cvtColor(img5, cv2.COLOR_RGB2GRAY)\n",
    "#Convert to binary.\n",
    "ret5, bw_img5 = cv2.threshold(gray5, 127, 255, cv2.THRESH_BINARY)\n",
    "cv2_imshow(bw_img5)\n"
   ]
  },
  {
   "cell_type": "markdown",
   "metadata": {
    "id": "g-G9XodY8raA"
   },
   "source": [
    "Simple granulometry analysis.\n",
    "\n",
    "If you need a more complex and detailed example, you can find it here:\n",
    "https://medium.com/@sunil7545/how-to-automate-electron-microscopic-image-analysis-70355f1099a5"
   ]
  },
  {
   "cell_type": "code",
   "execution_count": null,
   "metadata": {
    "colab": {
     "base_uri": "https://localhost:8080/",
     "height": 282
    },
    "id": "LvTqz02L3_Vm",
    "outputId": "5c4d353a-a146-447b-e488-c9e38da2de11"
   },
   "outputs": [],
   "source": [
    "from scipy import ndimage\n",
    "\n",
    "def disk_structure(n):\n",
    "    struct = np.zeros((2 * n + 1, 2 * n + 1))\n",
    "    x, y = np.indices((2 * n + 1, 2 * n + 1))\n",
    "    mask = (x - n)**2 + (y - n)**2 <= n**2\n",
    "    struct[mask] = 1\n",
    "    return struct.astype(np.bool)\n",
    "\n",
    "\n",
    "def granulometry(data, sizes=None):\n",
    "    s = max(data.shape)\n",
    "    if sizes.all == None:\n",
    "        sizes = range(1, s/2, 2)\n",
    "    granulo = [ndimage.binary_opening(data, \\\n",
    "            structure=disk_structure(n)).sum() for n in sizes]\n",
    "    return granulo\n",
    "\n",
    "\n",
    "np.random.seed(1)\n",
    "n = 10\n",
    "l = 256\n",
    "im = bw_img5\n",
    "points = l*np.random.random((2, n**2))\n",
    "im[(points[0]).astype(np.int), (points[1]).astype(np.int)] = 1\n",
    "im = ndimage.gaussian_filter(im, sigma=l/(4.*n))\n",
    "\n",
    "mask = im > im.mean()\n",
    "\n",
    "granulo = granulometry(mask, sizes=np.arange(2, 19, 4))\n",
    "\n",
    "plt.figure(figsize=(6, 2.2))\n",
    "\n",
    "plt.subplot(121)\n",
    "plt.imshow(mask, cmap=plt.cm.gray)\n",
    "opened = ndimage.binary_opening(mask, structure=disk_structure(10))\n",
    "opened_more = ndimage.binary_opening(mask, structure=disk_structure(14))\n",
    "plt.contour(opened, [0.5], colors='b', linewidths=1)\n",
    "plt.contour(opened_more, [0.5], colors='r', linewidths=1)\n",
    "plt.axis('off')\n",
    "plt.subplot(122)\n",
    "plt.plot(np.arange(2, 19, 4), granulo, 'ok', ms=12)\n",
    "\n",
    "\n",
    "plt.subplots_adjust(wspace=0.3, hspace=0.25, top=0.95, bottom=0.15, left=15, right=16)\n",
    "plt.show()"
   ]
  },
  {
   "cell_type": "markdown",
   "metadata": {
    "id": "GNR-GiN5-gXb"
   },
   "source": [
    "**6. Region filling - Swiss cheese example!**"
   ]
  },
  {
   "cell_type": "code",
   "execution_count": null,
   "metadata": {
    "colab": {
     "base_uri": "https://localhost:8080/",
     "height": 961
    },
    "id": "udasWdL_-5Zs",
    "outputId": "064fa08c-660b-4c2d-adee-411647a844d8"
   },
   "outputs": [],
   "source": [
    "# Read image\n",
    "img6 = cv2.imread('swisscheese.jpg')\n",
    "gray6 = cv2.cvtColor(img6, cv2.COLOR_RGB2GRAY)\n",
    "#cv2_imshow(gray6)\n",
    "ret, bw_img6 = cv2.threshold(gray6, 127, 255, cv2.THRESH_BINARY)\n",
    "cv2_imshow(bw_img6)\n",
    "print(bw_img6[280,650])\n"
   ]
  },
  {
   "cell_type": "markdown",
   "metadata": {
    "id": "rNxOBKmofyUD"
   },
   "source": [
    "Filling one hole."
   ]
  },
  {
   "cell_type": "code",
   "execution_count": null,
   "metadata": {
    "colab": {
     "base_uri": "https://localhost:8080/",
     "height": 943
    },
    "id": "8a0vV8wMShHm",
    "outputId": "4000e9ec-8fdb-4100-b5f4-cc4a3ceeaafc"
   },
   "outputs": [],
   "source": [
    "y=np.zeros(bw_img6.shape, np.uint8)\n",
    "y[280,650] = 255\n",
    "kernel = cv2.getStructuringElement(cv2.MORPH_ELLIPSE, (5,5))\n",
    "img_dilation = cv2.dilate(y, kernel, iterations=70)\n",
    "rez = img_dilation + bw_img6\n",
    "cv2_imshow(rez)\n",
    "\n"
   ]
  },
  {
   "cell_type": "markdown",
   "metadata": {
    "id": "_wqF_gC6gVFx"
   },
   "source": [
    "In case if you want to fill all holes, you can use the following method."
   ]
  },
  {
   "cell_type": "code",
   "execution_count": null,
   "metadata": {
    "colab": {
     "base_uri": "https://localhost:8080/",
     "height": 943
    },
    "id": "bL9UcLakgEtN",
    "outputId": "91c810ff-81d0-4253-eb01-451b000d9438"
   },
   "outputs": [],
   "source": [
    "from skimage.morphology import reconstruction\n",
    "\n",
    "seed = np.copy(bw_img6)\n",
    "seed[1:-1, 1:-1] = bw_img6.max()\n",
    "mask = bw_img6\n",
    "\n",
    "filled = reconstruction(seed, mask, method='erosion')\n",
    "cv2_imshow(filled)"
   ]
  }
 ],
 "metadata": {
  "colab": {
   "collapsed_sections": [],
   "name": "Untitled9.ipynb",
   "provenance": []
  },
  "kernelspec": {
   "display_name": "Python 3 (ipykernel)",
   "language": "python",
   "name": "python3"
  },
  "language_info": {
   "codemirror_mode": {
    "name": "ipython",
    "version": 3
   },
   "file_extension": ".py",
   "mimetype": "text/x-python",
   "name": "python",
   "nbconvert_exporter": "python",
   "pygments_lexer": "ipython3",
   "version": "3.9.6"
  }
 },
 "nbformat": 4,
 "nbformat_minor": 1
}
